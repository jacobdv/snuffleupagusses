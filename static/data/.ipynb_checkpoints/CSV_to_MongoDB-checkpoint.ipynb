{
 "cells": [
  {
   "cell_type": "code",
   "execution_count": 1,
   "metadata": {},
   "outputs": [],
   "source": [
    "# Imports\n",
    "import json\n",
    "import pandas as pd\n",
    "from pymongo import MongoClient"
   ]
  },
  {
   "cell_type": "code",
   "execution_count": 2,
   "metadata": {},
   "outputs": [],
   "source": [
    "# Load CSVs\n",
    "cities = pd.read_csv('cities.csv')\n",
    "states = pd.read_csv('states.csv')"
   ]
  },
  {
   "cell_type": "code",
   "execution_count": 3,
   "metadata": {},
   "outputs": [],
   "source": [
    "# Make connection to MongoDB\n",
    "myclient = MongoClient(\"mongodb://localhost:27017/\")"
   ]
  },
  {
   "cell_type": "code",
   "execution_count": 4,
   "metadata": {},
   "outputs": [],
   "source": [
    "# Create database\n",
    "mongoDatabase = myclient[\"Census_Data\"]"
   ]
  },
  {
   "cell_type": "code",
   "execution_count": 5,
   "metadata": {},
   "outputs": [],
   "source": [
    "# Create collections\n",
    "citiesCollection = mongoDatabase[\"Cities\"]\n",
    "statesCollection = mongoDatabase[\"States\"]"
   ]
  },
  {
   "cell_type": "code",
   "execution_count": 6,
   "metadata": {},
   "outputs": [],
   "source": [
    "# Reset indexes for collection dataframes\n",
    "cities.reset_index(inplace=True)\n",
    "states.reset_index(inplace=True)"
   ]
  },
  {
   "cell_type": "code",
   "execution_count": 7,
   "metadata": {},
   "outputs": [],
   "source": [
    "# Turn dataframes into dictionaries\n",
    "cities_dict = cities.to_dict('records')\n",
    "states_dict = states.to_dict('records')"
   ]
  },
  {
   "cell_type": "code",
   "execution_count": 8,
   "metadata": {},
   "outputs": [
    {
     "data": {
      "text/plain": [
       "<pymongo.results.InsertManyResult at 0x25e4a082288>"
      ]
     },
     "execution_count": 8,
     "metadata": {},
     "output_type": "execute_result"
    }
   ],
   "source": [
    "# Add dictionaries to their respective collections\n",
    "citiesCollection.insert_many(cities_dict)\n",
    "statesCollection.insert_many(states_dict)"
   ]
  },
  {
   "cell_type": "markdown",
   "metadata": {},
   "source": [
    "### May not need below."
   ]
  },
  {
   "cell_type": "markdown",
   "metadata": {},
   "source": [
    "# City Headers\n",
    "for index, row in cities.iterrows():\n",
    "    census_data = { \"City\" : row['City'],\n",
    "                   \"State\" : row['State'],\n",
    "        \"Population\" : row['Population'],\n",
    "        \"MedianIncome\" : row['MedianIncome'],\n",
    "        \"PopulationWithHighSchoolDiploma\" : row['PopulationWithHighSchoolDiploma'],\n",
    "        \"PopulationWithAssociatesDegree\" : row['PopulationWithAssociatesDegree'],\n",
    "        \"PopulationWithBachelorsDegree\" : row['PopulationWithBachelorsDegree'],\n",
    "        \"PopulationWithHighSpeedInternet\" : row['PopulationWithHighSpeedInternet'],\n",
    "        \"Latitude\" : row['Latitude'],\n",
    "        \"Longitude\" : row['Longitude']\n",
    "        }\n",
    "\n",
    "# State Headers\n",
    "for index, row in states.iterrows():\n",
    "    census_data = {\"State\" : row['State'],\n",
    "        \"Population\" : row['Population'],\n",
    "        \"MedianIncome\" : row['MedianIncome'],\n",
    "        \"PopulationWithHighSchoolDiploma\" : row['PopulationWithHighSchoolDiploma'],\n",
    "        \"PopulationWithAssociatesDegree\" : row['PopulationWithAssociatesDegree'],\n",
    "        \"PopulationWithBachelorsDegree\" : row['PopulationWithBachelorsDegree'],\n",
    "        \"PopulationWithHighSpeedInternet\" : row['PopulationWithHighSpeedInternet'],\n",
    "        \"Latitude\" : row['Latitude'],\n",
    "        \"Longitude\" : row['Longitude']\n",
    "        }"
   ]
  }
 ],
 "metadata": {
  "kernelspec": {
   "display_name": "Python 3",
   "language": "python",
   "name": "python3"
  },
  "language_info": {
   "codemirror_mode": {
    "name": "ipython",
    "version": 3
   },
   "file_extension": ".py",
   "mimetype": "text/x-python",
   "name": "python",
   "nbconvert_exporter": "python",
   "pygments_lexer": "ipython3",
   "version": "3.6.10"
  }
 },
 "nbformat": 4,
 "nbformat_minor": 4
}
